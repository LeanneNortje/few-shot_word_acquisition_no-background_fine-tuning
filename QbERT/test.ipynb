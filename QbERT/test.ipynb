{
 "cells": [
  {
   "cell_type": "code",
   "execution_count": 1,
   "metadata": {},
   "outputs": [
    {
     "data": {
      "text/plain": [
       "'6.7.0'"
      ]
     },
     "execution_count": 1,
     "metadata": {},
     "output_type": "execute_result"
    }
   ],
   "source": [
    "import ipykernel\n",
    "ipykernel.__version__"
   ]
  },
  {
   "cell_type": "code",
   "execution_count": 2,
   "metadata": {},
   "outputs": [
    {
     "data": {
      "text/plain": [
       "'8.21.0'"
      ]
     },
     "execution_count": 2,
     "metadata": {},
     "output_type": "execute_result"
    }
   ],
   "source": [
    "import IPython\n",
    "IPython.__version__"
   ]
  },
  {
   "cell_type": "code",
   "execution_count": 3,
   "metadata": {},
   "outputs": [
    {
     "ename": "ModuleNotFoundError",
     "evalue": "No module named 'torchaudio'",
     "output_type": "error",
     "traceback": [
      "\u001b[0;31m---------------------------------------------------------------------------\u001b[0m",
      "\u001b[0;31mModuleNotFoundError\u001b[0m                       Traceback (most recent call last)",
      "Cell \u001b[0;32mIn[3], line 4\u001b[0m\n\u001b[1;32m      2\u001b[0m \u001b[38;5;28;01mimport\u001b[39;00m \u001b[38;5;21;01mmath\u001b[39;00m\n\u001b[1;32m      3\u001b[0m \u001b[38;5;28;01mfrom\u001b[39;00m \u001b[38;5;21;01malign\u001b[39;00m \u001b[38;5;28;01mimport\u001b[39;00m align_semiglobal, score_semiglobal\n\u001b[0;32m----> 4\u001b[0m \u001b[38;5;28;01mimport\u001b[39;00m \u001b[38;5;21;01mtorchaudio\u001b[39;00m\n\u001b[1;32m      5\u001b[0m \u001b[38;5;28;01mfrom\u001b[39;00m \u001b[38;5;21;01mpathlib\u001b[39;00m \u001b[38;5;28;01mimport\u001b[39;00m Path\n",
      "\u001b[0;31mModuleNotFoundError\u001b[0m: No module named 'torchaudio'"
     ]
    }
   ],
   "source": [
    "import numpy as np\n",
    "import math\n",
    "from align import align_semiglobal, score_semiglobal\n",
    "import torchaudio\n",
    "from pathlib import Path"
   ]
  },
  {
   "cell_type": "code",
   "execution_count": null,
   "metadata": {},
   "outputs": [],
   "source": [
    "pam = np.load(\"pam.npy\")"
   ]
  },
  {
   "cell_type": "code",
   "execution_count": 6,
   "metadata": {},
   "outputs": [],
   "source": [
    "t0, tn = 0.9, 1.31\n",
    "f0, fn = math.floor(t0 / 0.02), math.ceil(tn / 0.02)\n",
    "\n",
    "query = np.load(\"./segments/train/395/m1govpedzbnfni-308Q0PEVB8D36MZ3GVRGS47IH4H9I5_530406_195536.npz\")\n",
    "x = query[\"codes\"][query[\"boundaries\"][:-1]]\n",
    "\n",
    "x0, = np.where(query[\"boundaries\"] <= f0)\n",
    "x0 = x0[-1]\n",
    "xn, = np.where(query[\"boundaries\"] >= fn)\n",
    "xn = xn[0]\n",
    "x = x[x0-1:xn+1]"
   ]
  },
  {
   "cell_type": "code",
   "execution_count": 7,
   "metadata": {},
   "outputs": [
    {
     "data": {
      "text/plain": [
       "array([28, 70, 26, 92, 57, 94,  8], dtype=int32)"
      ]
     },
     "execution_count": 7,
     "metadata": {},
     "output_type": "execute_result"
    }
   ],
   "source": [
    "x"
   ]
  },
  {
   "cell_type": "code",
   "execution_count": 8,
   "metadata": {},
   "outputs": [],
   "source": [
    "test = np.load(\"./segments/train/395/mff8fabdoddts-3ERMJ6L4DYSLOM11MDRO61NT07V7MQ_394974_736211.npz\")\n",
    "y = test[\"codes\"][test[\"boundaries\"][:-1]]"
   ]
  },
  {
   "cell_type": "code",
   "execution_count": 9,
   "metadata": {},
   "outputs": [],
   "source": [
    "path, p, q, score = align_semiglobal(x, y, pam, 3)"
   ]
  },
  {
   "cell_type": "code",
   "execution_count": 10,
   "metadata": {},
   "outputs": [],
   "source": [
    "indexes, = np.where(np.array(p) != -1)\n",
    "start, end = indexes[1], indexes[-1]\n",
    "norm_score = score / (end - start)\n",
    "_, b0 = path[start - 1]\n",
    "_, bT = path[end]\n",
    "w0, wT = 0.02 * test[\"boundaries\"][b0 - 1], 0.02 * test[\"boundaries\"][bT]\n",
    "offset = int(w0 * 16000)\n",
    "frames = int((wT - w0) * 16000)"
   ]
  },
  {
   "cell_type": "code",
   "execution_count": 11,
   "metadata": {},
   "outputs": [],
   "source": [
    "wav, sr = torchaudio.load(\"/home/leannenortje/Datasets/spokencoco/SpokenCOCO/wavs/train/395/mff8fabdoddts-3ERMJ6L4DYSLOM11MDRO61NT07V7MQ_394974_736211.wav\", frame_offset=offset, num_frames=frames)"
   ]
  },
  {
   "cell_type": "code",
   "execution_count": 12,
   "metadata": {},
   "outputs": [],
   "source": [
    "from IPython.display import Audio"
   ]
  },
  {
   "cell_type": "code",
   "execution_count": 15,
   "metadata": {},
   "outputs": [
    {
     "name": "stdout",
     "output_type": "stream",
     "text": [
      "(9600,)\n"
     ]
    },
    {
     "data": {
      "text/html": [
       "\n",
       "                <audio  controls=\"controls\" >\n",
       "                    <source src=\"data:audio/wav;base64,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\" type=\"audio/wav\" />\n",
       "                    Your browser does not support the audio element.\n",
       "                </audio>\n",
       "              "
      ],
      "text/plain": [
       "<IPython.lib.display.Audio object>"
      ]
     },
     "execution_count": 15,
     "metadata": {},
     "output_type": "execute_result"
    }
   ],
   "source": [
    "print(wav.squeeze().numpy().shape)\n",
    "Audio(wav.squeeze().numpy(), rate=sr)"
   ]
  },
  {
   "cell_type": "code",
   "execution_count": 12,
   "metadata": {},
   "outputs": [
    {
     "data": {
      "text/plain": [
       "1.4"
      ]
     },
     "execution_count": 12,
     "metadata": {},
     "output_type": "execute_result"
    }
   ],
   "source": [
    "norm_score"
   ]
  },
  {
   "cell_type": "code",
   "execution_count": null,
   "metadata": {},
   "outputs": [],
   "source": [
    "x, y"
   ]
  },
  {
   "cell_type": "code",
   "execution_count": null,
   "metadata": {},
   "outputs": [],
   "source": [
    "from tqdm.notebook import tqdm\n",
    "seg_dir = Path('segments/val')\n",
    "wav_dir = Path('/home/leannenortje/Datasets/spokencoco/SpokenCOCO/wavs/val')\n",
    "save_dir = Path('zebra_examples')\n",
    "for fn in tqdm(list(seg_dir.rglob('*.npz'))):\n",
    "    test = np.load(fn)\n",
    "    y = test[\"codes\"][test[\"boundaries\"][:-1]]\n",
    "    path, p, q, score = align_semiglobal(x, y, pam, 3)\n",
    "    indexes, = np.where(np.array(p) != -1)\n",
    "    start, end = indexes[1], indexes[-1]\n",
    "    norm_score = score / (end - start)\n",
    "    \n",
    "    if norm_score >= 1.2:\n",
    "        \n",
    "        _, b0 = path[start - 1]\n",
    "        _, bT = path[end]\n",
    "        w0, wT = 0.02 * test[\"boundaries\"][b0 - 1], 0.02 * test[\"boundaries\"][bT]\n",
    "        offset = int(w0 * 16000)\n",
    "        frames = int((wT - w0) * 16000)\n",
    "        wav_path = wav_dir / fn.relative_to(seg_dir)\n",
    "        wav, sr = torchaudio.load(wav_path.with_suffix('.wav'), frame_offset=offset, num_frames=frames)\n",
    "        out_path = (save_dir / fn.relative_to(seg_dir)).with_suffix('.wav')\n",
    "        out_path.parent.mkdir(parents=True, exist_ok=True)\n",
    "        torchaudio.save(out_path, wav, sr)"
   ]
  },
  {
   "cell_type": "code",
   "execution_count": null,
   "metadata": {},
   "outputs": [],
   "source": [
    "align_semiglobal(x, y, pam, 3, start_gap=\"x\", end_gap=\"x\")"
   ]
  },
  {
   "cell_type": "code",
   "execution_count": null,
   "metadata": {},
   "outputs": [],
   "source": [
    "len(x), len(y)"
   ]
  },
  {
   "cell_type": "code",
   "execution_count": null,
   "metadata": {},
   "outputs": [],
   "source": [
    "len(segments[\"codes\"])"
   ]
  },
  {
   "cell_type": "code",
   "execution_count": null,
   "metadata": {},
   "outputs": [],
   "source": [
    "import csv"
   ]
  },
  {
   "cell_type": "code",
   "execution_count": null,
   "metadata": {},
   "outputs": [],
   "source": [
    "with open(\"/home/benjamin/Documents/align/PAMAUDIO.csv\") as file:\n",
    "    reader = csv.reader(file)\n",
    "    D = {(int(a), int(b)): float(score) for a, b, score in reader}\n",
    "\n",
    "    silences = {2, 3, 4, 6, 16, 19, 21, 22, 32, 37, 44, 45, 69, 74, 87, 96}\n",
    "    for (i, j), v in D.items():\n",
    "        if i in silences or j in silences:\n",
    "            value = 0.0 if i in silences and j in silences else -10.0\n",
    "            D[(i, j)] = value"
   ]
  },
  {
   "cell_type": "code",
   "execution_count": null,
   "metadata": {},
   "outputs": [],
   "source": [
    "pam = np.zeros((100, 100), dtype=int)\n",
    "for (i, j), v in D.items():\n",
    "    pam[i, j] = v"
   ]
  },
  {
   "cell_type": "code",
   "execution_count": null,
   "metadata": {},
   "outputs": [],
   "source": [
    "np.save(\"pam.npy\", pam)"
   ]
  },
  {
   "cell_type": "code",
   "execution_count": null,
   "metadata": {},
   "outputs": [],
   "source": []
  }
 ],
 "metadata": {
  "kernelspec": {
   "display_name": "Python 3 (ipykernel)",
   "language": "python",
   "name": "python3"
  },
  "language_info": {
   "codemirror_mode": {
    "name": "ipython",
    "version": 3
   },
   "file_extension": ".py",
   "mimetype": "text/x-python",
   "name": "python",
   "nbconvert_exporter": "python",
   "pygments_lexer": "ipython3",
   "version": "3.10.12"
  },
  "vscode": {
   "interpreter": {
    "hash": "37b78bbb8ac0723a1e5e33a7aecb1f5a900c6358fe646288dad2bf5c9e18c6fe"
   }
  }
 },
 "nbformat": 4,
 "nbformat_minor": 2
}
